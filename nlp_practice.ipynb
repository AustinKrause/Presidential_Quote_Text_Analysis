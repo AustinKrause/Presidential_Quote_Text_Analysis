{
 "cells": [
  {
   "cell_type": "markdown",
   "metadata": {},
   "source": [
    "<h1>Text Cleaning and Classification Models"
   ]
  },
  {
   "cell_type": "code",
   "execution_count": 40,
   "metadata": {},
   "outputs": [],
   "source": [
    "import pandas as pd\n",
    "import datetime\n",
    "import numpy as np\n",
    "import re\n",
    "\n",
    "import nltk\n",
    "from nltk.tokenize import word_tokenize\n",
    "from nltk.corpus import stopwords\n",
    "from nltk.stem import WordNetLemmatizer\n",
    "from nltk.stem import PorterStemmer\n",
    "from nltk.stem import SnowballStemmer\n",
    "\n",
    "import string\n",
    "from string import punctuation\n",
    "\n",
    "from sklearn.model_selection import train_test_split\n",
    "from sklearn import preprocessing\n",
    "from sklearn.naive_bayes import MultinomialNB\n",
    "from sklearn.pipeline import Pipeline\n",
    "from sklearn.feature_extraction.text import TfidfTransformer\n",
    "from sklearn.feature_extraction.text import CountVectorizer, TfidfVectorizer\n",
    "from sklearn.metrics import accuracy_score, confusion_matrix\n",
    "from sklearn.metrics import classification_report"
   ]
  },
  {
   "cell_type": "markdown",
   "metadata": {},
   "source": [
    "This code prevents the kernel from stopping when XGBoost is running"
   ]
  },
  {
   "cell_type": "code",
   "execution_count": 28,
   "metadata": {},
   "outputs": [],
   "source": [
    "import os\n",
    "os.environ['KMP_DUPLICATE_LIB_OK']='True'"
   ]
  },
  {
   "cell_type": "markdown",
   "metadata": {},
   "source": [
    "<h2>Read in CSV"
   ]
  },
  {
   "cell_type": "code",
   "execution_count": 2,
   "metadata": {},
   "outputs": [],
   "source": [
    "df = pd.read_csv('presidential_quotes.csv')"
   ]
  },
  {
   "cell_type": "code",
   "execution_count": 3,
   "metadata": {},
   "outputs": [],
   "source": [
    "df = df.drop('Unnamed: 0', axis = 1)"
   ]
  },
  {
   "cell_type": "code",
   "execution_count": 4,
   "metadata": {},
   "outputs": [
    {
     "data": {
      "text/html": [
       "<div>\n",
       "<style scoped>\n",
       "    .dataframe tbody tr th:only-of-type {\n",
       "        vertical-align: middle;\n",
       "    }\n",
       "\n",
       "    .dataframe tbody tr th {\n",
       "        vertical-align: top;\n",
       "    }\n",
       "\n",
       "    .dataframe thead th {\n",
       "        text-align: right;\n",
       "    }\n",
       "</style>\n",
       "<table border=\"1\" class=\"dataframe\">\n",
       "  <thead>\n",
       "    <tr style=\"text-align: right;\">\n",
       "      <th></th>\n",
       "      <th>party</th>\n",
       "      <th>quote</th>\n",
       "      <th>said_by</th>\n",
       "    </tr>\n",
       "  </thead>\n",
       "  <tbody>\n",
       "    <tr>\n",
       "      <th>0</th>\n",
       "      <td>D</td>\n",
       "      <td>Change will not come if we wait for some other...</td>\n",
       "      <td>Barack Obama</td>\n",
       "    </tr>\n",
       "    <tr>\n",
       "      <th>1</th>\n",
       "      <td>D</td>\n",
       "      <td>The best way to not feel hopeless is to get up...</td>\n",
       "      <td>Barack Obama</td>\n",
       "    </tr>\n",
       "    <tr>\n",
       "      <th>2</th>\n",
       "      <td>D</td>\n",
       "      <td>A change is brought about because ordinary peo...</td>\n",
       "      <td>Barack Obama</td>\n",
       "    </tr>\n",
       "    <tr>\n",
       "      <th>3</th>\n",
       "      <td>D</td>\n",
       "      <td>Yes We Can!</td>\n",
       "      <td>Barack Obama</td>\n",
       "    </tr>\n",
       "    <tr>\n",
       "      <th>4</th>\n",
       "      <td>D</td>\n",
       "      <td>We are the change we have been waiting for.</td>\n",
       "      <td>Barack Obama</td>\n",
       "    </tr>\n",
       "  </tbody>\n",
       "</table>\n",
       "</div>"
      ],
      "text/plain": [
       "  party                                              quote       said_by\n",
       "0     D  Change will not come if we wait for some other...  Barack Obama\n",
       "1     D  The best way to not feel hopeless is to get up...  Barack Obama\n",
       "2     D  A change is brought about because ordinary peo...  Barack Obama\n",
       "3     D                                        Yes We Can!  Barack Obama\n",
       "4     D        We are the change we have been waiting for.  Barack Obama"
      ]
     },
     "execution_count": 4,
     "metadata": {},
     "output_type": "execute_result"
    }
   ],
   "source": [
    "df.head()"
   ]
  },
  {
   "cell_type": "code",
   "execution_count": 5,
   "metadata": {},
   "outputs": [
    {
     "data": {
      "text/plain": [
       "(2016, 3)"
      ]
     },
     "execution_count": 5,
     "metadata": {},
     "output_type": "execute_result"
    }
   ],
   "source": [
    "df.shape"
   ]
  },
  {
   "cell_type": "code",
   "execution_count": 6,
   "metadata": {},
   "outputs": [
    {
     "data": {
      "text/plain": [
       "Barack Obama       570\n",
       "Hillary Clinton    563\n",
       "Abraham Lincoln    440\n",
       "Donald Trump       227\n",
       "George W. Bush     216\n",
       "Name: said_by, dtype: int64"
      ]
     },
     "execution_count": 6,
     "metadata": {},
     "output_type": "execute_result"
    }
   ],
   "source": [
    "df.said_by.value_counts()"
   ]
  },
  {
   "cell_type": "code",
   "execution_count": 7,
   "metadata": {},
   "outputs": [
    {
     "data": {
      "text/plain": [
       "D    1133\n",
       "R     883\n",
       "Name: party, dtype: int64"
      ]
     },
     "execution_count": 7,
     "metadata": {},
     "output_type": "execute_result"
    }
   ],
   "source": [
    "df.party.value_counts()"
   ]
  },
  {
   "cell_type": "markdown",
   "metadata": {},
   "source": [
    "<h2>Tokenize"
   ]
  },
  {
   "cell_type": "code",
   "execution_count": 8,
   "metadata": {},
   "outputs": [],
   "source": [
    "df.quote = df.quote.str.lower()"
   ]
  },
  {
   "cell_type": "code",
   "execution_count": 9,
   "metadata": {},
   "outputs": [],
   "source": [
    "df['quote_tokenized'] = df.quote.apply(lambda x: word_tokenize(x, language = 'en'))"
   ]
  },
  {
   "cell_type": "code",
   "execution_count": 10,
   "metadata": {},
   "outputs": [
    {
     "data": {
      "text/html": [
       "<div>\n",
       "<style scoped>\n",
       "    .dataframe tbody tr th:only-of-type {\n",
       "        vertical-align: middle;\n",
       "    }\n",
       "\n",
       "    .dataframe tbody tr th {\n",
       "        vertical-align: top;\n",
       "    }\n",
       "\n",
       "    .dataframe thead th {\n",
       "        text-align: right;\n",
       "    }\n",
       "</style>\n",
       "<table border=\"1\" class=\"dataframe\">\n",
       "  <thead>\n",
       "    <tr style=\"text-align: right;\">\n",
       "      <th></th>\n",
       "      <th>party</th>\n",
       "      <th>quote</th>\n",
       "      <th>said_by</th>\n",
       "      <th>quote_tokenized</th>\n",
       "    </tr>\n",
       "  </thead>\n",
       "  <tbody>\n",
       "    <tr>\n",
       "      <th>0</th>\n",
       "      <td>D</td>\n",
       "      <td>change will not come if we wait for some other...</td>\n",
       "      <td>Barack Obama</td>\n",
       "      <td>[change, will, not, come, if, we, wait, for, s...</td>\n",
       "    </tr>\n",
       "    <tr>\n",
       "      <th>1</th>\n",
       "      <td>D</td>\n",
       "      <td>the best way to not feel hopeless is to get up...</td>\n",
       "      <td>Barack Obama</td>\n",
       "      <td>[the, best, way, to, not, feel, hopeless, is, ...</td>\n",
       "    </tr>\n",
       "    <tr>\n",
       "      <th>2</th>\n",
       "      <td>D</td>\n",
       "      <td>a change is brought about because ordinary peo...</td>\n",
       "      <td>Barack Obama</td>\n",
       "      <td>[a, change, is, brought, about, because, ordin...</td>\n",
       "    </tr>\n",
       "    <tr>\n",
       "      <th>3</th>\n",
       "      <td>D</td>\n",
       "      <td>yes we can!</td>\n",
       "      <td>Barack Obama</td>\n",
       "      <td>[yes, we, can, !]</td>\n",
       "    </tr>\n",
       "    <tr>\n",
       "      <th>4</th>\n",
       "      <td>D</td>\n",
       "      <td>we are the change we have been waiting for.</td>\n",
       "      <td>Barack Obama</td>\n",
       "      <td>[we, are, the, change, we, have, been, waiting...</td>\n",
       "    </tr>\n",
       "  </tbody>\n",
       "</table>\n",
       "</div>"
      ],
      "text/plain": [
       "  party                                              quote       said_by  \\\n",
       "0     D  change will not come if we wait for some other...  Barack Obama   \n",
       "1     D  the best way to not feel hopeless is to get up...  Barack Obama   \n",
       "2     D  a change is brought about because ordinary peo...  Barack Obama   \n",
       "3     D                                        yes we can!  Barack Obama   \n",
       "4     D        we are the change we have been waiting for.  Barack Obama   \n",
       "\n",
       "                                     quote_tokenized  \n",
       "0  [change, will, not, come, if, we, wait, for, s...  \n",
       "1  [the, best, way, to, not, feel, hopeless, is, ...  \n",
       "2  [a, change, is, brought, about, because, ordin...  \n",
       "3                                  [yes, we, can, !]  \n",
       "4  [we, are, the, change, we, have, been, waiting...  "
      ]
     },
     "execution_count": 10,
     "metadata": {},
     "output_type": "execute_result"
    }
   ],
   "source": [
    "df.head()"
   ]
  },
  {
   "cell_type": "markdown",
   "metadata": {},
   "source": [
    "<h2>Remove Stop Words"
   ]
  },
  {
   "cell_type": "code",
   "execution_count": 13,
   "metadata": {},
   "outputs": [],
   "source": [
    "stops = list(set(stopwords.words('english'))) + list(punctuation)"
   ]
  },
  {
   "cell_type": "code",
   "execution_count": 14,
   "metadata": {},
   "outputs": [],
   "source": [
    "#function to remove stop words\n",
    "def remove_stops(text):\n",
    "    text_no_stops = []\n",
    "    for i in text:\n",
    "        if i not in stops:\n",
    "            if len(i) == 1:\n",
    "                pass\n",
    "            else:\n",
    "                text_no_stops.append(i)\n",
    "        else:\n",
    "            pass\n",
    "    return text_no_stops"
   ]
  },
  {
   "cell_type": "code",
   "execution_count": 15,
   "metadata": {},
   "outputs": [],
   "source": [
    "df['quote_no_stops'] = df['quote_tokenized'].apply(lambda x: remove_stops(x))"
   ]
  },
  {
   "cell_type": "code",
   "execution_count": 16,
   "metadata": {},
   "outputs": [
    {
     "data": {
      "text/html": [
       "<div>\n",
       "<style scoped>\n",
       "    .dataframe tbody tr th:only-of-type {\n",
       "        vertical-align: middle;\n",
       "    }\n",
       "\n",
       "    .dataframe tbody tr th {\n",
       "        vertical-align: top;\n",
       "    }\n",
       "\n",
       "    .dataframe thead th {\n",
       "        text-align: right;\n",
       "    }\n",
       "</style>\n",
       "<table border=\"1\" class=\"dataframe\">\n",
       "  <thead>\n",
       "    <tr style=\"text-align: right;\">\n",
       "      <th></th>\n",
       "      <th>party</th>\n",
       "      <th>quote</th>\n",
       "      <th>said_by</th>\n",
       "      <th>quote_tokenized</th>\n",
       "      <th>quote_no_stops</th>\n",
       "    </tr>\n",
       "  </thead>\n",
       "  <tbody>\n",
       "    <tr>\n",
       "      <th>0</th>\n",
       "      <td>D</td>\n",
       "      <td>change will not come if we wait for some other...</td>\n",
       "      <td>Barack Obama</td>\n",
       "      <td>[change, will, not, come, if, we, wait, for, s...</td>\n",
       "      <td>[change, come, wait, person, wait, time, ones,...</td>\n",
       "    </tr>\n",
       "    <tr>\n",
       "      <th>1</th>\n",
       "      <td>D</td>\n",
       "      <td>the best way to not feel hopeless is to get up...</td>\n",
       "      <td>Barack Obama</td>\n",
       "      <td>[the, best, way, to, not, feel, hopeless, is, ...</td>\n",
       "      <td>[best, way, feel, hopeless, get, something, wa...</td>\n",
       "    </tr>\n",
       "    <tr>\n",
       "      <th>2</th>\n",
       "      <td>D</td>\n",
       "      <td>a change is brought about because ordinary peo...</td>\n",
       "      <td>Barack Obama</td>\n",
       "      <td>[a, change, is, brought, about, because, ordin...</td>\n",
       "      <td>[change, brought, ordinary, people, extraordin...</td>\n",
       "    </tr>\n",
       "    <tr>\n",
       "      <th>3</th>\n",
       "      <td>D</td>\n",
       "      <td>yes we can!</td>\n",
       "      <td>Barack Obama</td>\n",
       "      <td>[yes, we, can, !]</td>\n",
       "      <td>[yes]</td>\n",
       "    </tr>\n",
       "    <tr>\n",
       "      <th>4</th>\n",
       "      <td>D</td>\n",
       "      <td>we are the change we have been waiting for.</td>\n",
       "      <td>Barack Obama</td>\n",
       "      <td>[we, are, the, change, we, have, been, waiting...</td>\n",
       "      <td>[change, waiting]</td>\n",
       "    </tr>\n",
       "  </tbody>\n",
       "</table>\n",
       "</div>"
      ],
      "text/plain": [
       "  party                                              quote       said_by  \\\n",
       "0     D  change will not come if we wait for some other...  Barack Obama   \n",
       "1     D  the best way to not feel hopeless is to get up...  Barack Obama   \n",
       "2     D  a change is brought about because ordinary peo...  Barack Obama   \n",
       "3     D                                        yes we can!  Barack Obama   \n",
       "4     D        we are the change we have been waiting for.  Barack Obama   \n",
       "\n",
       "                                     quote_tokenized  \\\n",
       "0  [change, will, not, come, if, we, wait, for, s...   \n",
       "1  [the, best, way, to, not, feel, hopeless, is, ...   \n",
       "2  [a, change, is, brought, about, because, ordin...   \n",
       "3                                  [yes, we, can, !]   \n",
       "4  [we, are, the, change, we, have, been, waiting...   \n",
       "\n",
       "                                      quote_no_stops  \n",
       "0  [change, come, wait, person, wait, time, ones,...  \n",
       "1  [best, way, feel, hopeless, get, something, wa...  \n",
       "2  [change, brought, ordinary, people, extraordin...  \n",
       "3                                              [yes]  \n",
       "4                                  [change, waiting]  "
      ]
     },
     "execution_count": 16,
     "metadata": {},
     "output_type": "execute_result"
    }
   ],
   "source": [
    "df.head()"
   ]
  },
  {
   "cell_type": "markdown",
   "metadata": {},
   "source": [
    "<h2>Lemmatize"
   ]
  },
  {
   "cell_type": "code",
   "execution_count": 21,
   "metadata": {},
   "outputs": [],
   "source": [
    "#initialize WordNetLemmatizer\n",
    "lemmatizer = nltk.stem.WordNetLemmatizer()"
   ]
  },
  {
   "cell_type": "code",
   "execution_count": 22,
   "metadata": {},
   "outputs": [],
   "source": [
    "#function to lemmatize text\n",
    "def lemmatize_text(text):\n",
    "    lemmatized = []\n",
    "    for word in text:\n",
    "        lemmatized.append(lemmatizer.lemmatize(word))\n",
    "    return lemmatized"
   ]
  },
  {
   "cell_type": "code",
   "execution_count": 23,
   "metadata": {},
   "outputs": [],
   "source": [
    "df['lemmatized_quote'] = df['quote_no_stops'].apply(lemmatize_text)"
   ]
  },
  {
   "cell_type": "code",
   "execution_count": 25,
   "metadata": {},
   "outputs": [
    {
     "data": {
      "text/html": [
       "<div>\n",
       "<style scoped>\n",
       "    .dataframe tbody tr th:only-of-type {\n",
       "        vertical-align: middle;\n",
       "    }\n",
       "\n",
       "    .dataframe tbody tr th {\n",
       "        vertical-align: top;\n",
       "    }\n",
       "\n",
       "    .dataframe thead th {\n",
       "        text-align: right;\n",
       "    }\n",
       "</style>\n",
       "<table border=\"1\" class=\"dataframe\">\n",
       "  <thead>\n",
       "    <tr style=\"text-align: right;\">\n",
       "      <th></th>\n",
       "      <th>party</th>\n",
       "      <th>quote</th>\n",
       "      <th>said_by</th>\n",
       "      <th>quote_tokenized</th>\n",
       "      <th>quote_no_stops</th>\n",
       "      <th>lemmatized_quote</th>\n",
       "    </tr>\n",
       "  </thead>\n",
       "  <tbody>\n",
       "    <tr>\n",
       "      <th>0</th>\n",
       "      <td>D</td>\n",
       "      <td>change will not come if we wait for some other...</td>\n",
       "      <td>Barack Obama</td>\n",
       "      <td>[change, will, not, come, if, we, wait, for, s...</td>\n",
       "      <td>[change, come, wait, person, wait, time, ones,...</td>\n",
       "      <td>[change, come, wait, person, wait, time, one, ...</td>\n",
       "    </tr>\n",
       "    <tr>\n",
       "      <th>1</th>\n",
       "      <td>D</td>\n",
       "      <td>the best way to not feel hopeless is to get up...</td>\n",
       "      <td>Barack Obama</td>\n",
       "      <td>[the, best, way, to, not, feel, hopeless, is, ...</td>\n",
       "      <td>[best, way, feel, hopeless, get, something, wa...</td>\n",
       "      <td>[best, way, feel, hopeless, get, something, wa...</td>\n",
       "    </tr>\n",
       "    <tr>\n",
       "      <th>2</th>\n",
       "      <td>D</td>\n",
       "      <td>a change is brought about because ordinary peo...</td>\n",
       "      <td>Barack Obama</td>\n",
       "      <td>[a, change, is, brought, about, because, ordin...</td>\n",
       "      <td>[change, brought, ordinary, people, extraordin...</td>\n",
       "      <td>[change, brought, ordinary, people, extraordin...</td>\n",
       "    </tr>\n",
       "    <tr>\n",
       "      <th>3</th>\n",
       "      <td>D</td>\n",
       "      <td>yes we can!</td>\n",
       "      <td>Barack Obama</td>\n",
       "      <td>[yes, we, can, !]</td>\n",
       "      <td>[yes]</td>\n",
       "      <td>[yes]</td>\n",
       "    </tr>\n",
       "    <tr>\n",
       "      <th>4</th>\n",
       "      <td>D</td>\n",
       "      <td>we are the change we have been waiting for.</td>\n",
       "      <td>Barack Obama</td>\n",
       "      <td>[we, are, the, change, we, have, been, waiting...</td>\n",
       "      <td>[change, waiting]</td>\n",
       "      <td>[change, waiting]</td>\n",
       "    </tr>\n",
       "  </tbody>\n",
       "</table>\n",
       "</div>"
      ],
      "text/plain": [
       "  party                                              quote       said_by  \\\n",
       "0     D  change will not come if we wait for some other...  Barack Obama   \n",
       "1     D  the best way to not feel hopeless is to get up...  Barack Obama   \n",
       "2     D  a change is brought about because ordinary peo...  Barack Obama   \n",
       "3     D                                        yes we can!  Barack Obama   \n",
       "4     D        we are the change we have been waiting for.  Barack Obama   \n",
       "\n",
       "                                     quote_tokenized  \\\n",
       "0  [change, will, not, come, if, we, wait, for, s...   \n",
       "1  [the, best, way, to, not, feel, hopeless, is, ...   \n",
       "2  [a, change, is, brought, about, because, ordin...   \n",
       "3                                  [yes, we, can, !]   \n",
       "4  [we, are, the, change, we, have, been, waiting...   \n",
       "\n",
       "                                      quote_no_stops  \\\n",
       "0  [change, come, wait, person, wait, time, ones,...   \n",
       "1  [best, way, feel, hopeless, get, something, wa...   \n",
       "2  [change, brought, ordinary, people, extraordin...   \n",
       "3                                              [yes]   \n",
       "4                                  [change, waiting]   \n",
       "\n",
       "                                    lemmatized_quote  \n",
       "0  [change, come, wait, person, wait, time, one, ...  \n",
       "1  [best, way, feel, hopeless, get, something, wa...  \n",
       "2  [change, brought, ordinary, people, extraordin...  \n",
       "3                                              [yes]  \n",
       "4                                  [change, waiting]  "
      ]
     },
     "execution_count": 25,
     "metadata": {},
     "output_type": "execute_result"
    }
   ],
   "source": [
    "df.head()"
   ]
  },
  {
   "cell_type": "code",
   "execution_count": 26,
   "metadata": {},
   "outputs": [],
   "source": [
    "#create string of lemmatized quotes\n",
    "df['lemmatized_quote_string'] = df['lemmatized_quote'].apply(lambda x: ' '.join(x))"
   ]
  },
  {
   "cell_type": "code",
   "execution_count": 27,
   "metadata": {},
   "outputs": [
    {
     "data": {
      "text/html": [
       "<div>\n",
       "<style scoped>\n",
       "    .dataframe tbody tr th:only-of-type {\n",
       "        vertical-align: middle;\n",
       "    }\n",
       "\n",
       "    .dataframe tbody tr th {\n",
       "        vertical-align: top;\n",
       "    }\n",
       "\n",
       "    .dataframe thead th {\n",
       "        text-align: right;\n",
       "    }\n",
       "</style>\n",
       "<table border=\"1\" class=\"dataframe\">\n",
       "  <thead>\n",
       "    <tr style=\"text-align: right;\">\n",
       "      <th></th>\n",
       "      <th>party</th>\n",
       "      <th>quote</th>\n",
       "      <th>said_by</th>\n",
       "      <th>quote_tokenized</th>\n",
       "      <th>quote_no_stops</th>\n",
       "      <th>lemmatized_quote</th>\n",
       "      <th>lemmatized_quote_string</th>\n",
       "    </tr>\n",
       "  </thead>\n",
       "  <tbody>\n",
       "    <tr>\n",
       "      <th>0</th>\n",
       "      <td>D</td>\n",
       "      <td>change will not come if we wait for some other...</td>\n",
       "      <td>Barack Obama</td>\n",
       "      <td>[change, will, not, come, if, we, wait, for, s...</td>\n",
       "      <td>[change, come, wait, person, wait, time, ones,...</td>\n",
       "      <td>[change, come, wait, person, wait, time, one, ...</td>\n",
       "      <td>change come wait person wait time one 've wait...</td>\n",
       "    </tr>\n",
       "    <tr>\n",
       "      <th>1</th>\n",
       "      <td>D</td>\n",
       "      <td>the best way to not feel hopeless is to get up...</td>\n",
       "      <td>Barack Obama</td>\n",
       "      <td>[the, best, way, to, not, feel, hopeless, is, ...</td>\n",
       "      <td>[best, way, feel, hopeless, get, something, wa...</td>\n",
       "      <td>[best, way, feel, hopeless, get, something, wa...</td>\n",
       "      <td>best way feel hopeless get something wait good...</td>\n",
       "    </tr>\n",
       "    <tr>\n",
       "      <th>2</th>\n",
       "      <td>D</td>\n",
       "      <td>a change is brought about because ordinary peo...</td>\n",
       "      <td>Barack Obama</td>\n",
       "      <td>[a, change, is, brought, about, because, ordin...</td>\n",
       "      <td>[change, brought, ordinary, people, extraordin...</td>\n",
       "      <td>[change, brought, ordinary, people, extraordin...</td>\n",
       "      <td>change brought ordinary people extraordinary t...</td>\n",
       "    </tr>\n",
       "    <tr>\n",
       "      <th>3</th>\n",
       "      <td>D</td>\n",
       "      <td>yes we can!</td>\n",
       "      <td>Barack Obama</td>\n",
       "      <td>[yes, we, can, !]</td>\n",
       "      <td>[yes]</td>\n",
       "      <td>[yes]</td>\n",
       "      <td>yes</td>\n",
       "    </tr>\n",
       "    <tr>\n",
       "      <th>4</th>\n",
       "      <td>D</td>\n",
       "      <td>we are the change we have been waiting for.</td>\n",
       "      <td>Barack Obama</td>\n",
       "      <td>[we, are, the, change, we, have, been, waiting...</td>\n",
       "      <td>[change, waiting]</td>\n",
       "      <td>[change, waiting]</td>\n",
       "      <td>change waiting</td>\n",
       "    </tr>\n",
       "  </tbody>\n",
       "</table>\n",
       "</div>"
      ],
      "text/plain": [
       "  party                                              quote       said_by  \\\n",
       "0     D  change will not come if we wait for some other...  Barack Obama   \n",
       "1     D  the best way to not feel hopeless is to get up...  Barack Obama   \n",
       "2     D  a change is brought about because ordinary peo...  Barack Obama   \n",
       "3     D                                        yes we can!  Barack Obama   \n",
       "4     D        we are the change we have been waiting for.  Barack Obama   \n",
       "\n",
       "                                     quote_tokenized  \\\n",
       "0  [change, will, not, come, if, we, wait, for, s...   \n",
       "1  [the, best, way, to, not, feel, hopeless, is, ...   \n",
       "2  [a, change, is, brought, about, because, ordin...   \n",
       "3                                  [yes, we, can, !]   \n",
       "4  [we, are, the, change, we, have, been, waiting...   \n",
       "\n",
       "                                      quote_no_stops  \\\n",
       "0  [change, come, wait, person, wait, time, ones,...   \n",
       "1  [best, way, feel, hopeless, get, something, wa...   \n",
       "2  [change, brought, ordinary, people, extraordin...   \n",
       "3                                              [yes]   \n",
       "4                                  [change, waiting]   \n",
       "\n",
       "                                    lemmatized_quote  \\\n",
       "0  [change, come, wait, person, wait, time, one, ...   \n",
       "1  [best, way, feel, hopeless, get, something, wa...   \n",
       "2  [change, brought, ordinary, people, extraordin...   \n",
       "3                                              [yes]   \n",
       "4                                  [change, waiting]   \n",
       "\n",
       "                             lemmatized_quote_string  \n",
       "0  change come wait person wait time one 've wait...  \n",
       "1  best way feel hopeless get something wait good...  \n",
       "2  change brought ordinary people extraordinary t...  \n",
       "3                                                yes  \n",
       "4                                     change waiting  "
      ]
     },
     "execution_count": 27,
     "metadata": {},
     "output_type": "execute_result"
    }
   ],
   "source": [
    "df.head()"
   ]
  },
  {
   "cell_type": "markdown",
   "metadata": {},
   "source": [
    "<h2>Lable Encoding"
   ]
  },
  {
   "cell_type": "code",
   "execution_count": 30,
   "metadata": {},
   "outputs": [],
   "source": [
    "# Create a label encoder object\n",
    "le = preprocessing.LabelEncoder()"
   ]
  },
  {
   "cell_type": "code",
   "execution_count": 31,
   "metadata": {},
   "outputs": [
    {
     "name": "stdout",
     "output_type": "stream",
     "text": [
      "<class 'pandas.core.frame.DataFrame'>\n",
      "RangeIndex: 2016 entries, 0 to 2015\n",
      "Data columns (total 7 columns):\n",
      "party                      2016 non-null object\n",
      "quote                      2016 non-null object\n",
      "said_by                    2016 non-null object\n",
      "quote_tokenized            2016 non-null object\n",
      "quote_no_stops             2016 non-null object\n",
      "lemmatized_quote           2016 non-null object\n",
      "lemmatized_quote_string    2016 non-null object\n",
      "dtypes: object(7)\n",
      "memory usage: 110.3+ KB\n"
     ]
    }
   ],
   "source": [
    "df.info()"
   ]
  },
  {
   "cell_type": "code",
   "execution_count": 32,
   "metadata": {},
   "outputs": [
    {
     "data": {
      "text/plain": [
       "LabelEncoder()"
      ]
     },
     "execution_count": 32,
     "metadata": {},
     "output_type": "execute_result"
    }
   ],
   "source": [
    "# Fit the encoder to the pandas column\n",
    "le.fit(df.said_by)"
   ]
  },
  {
   "cell_type": "code",
   "execution_count": 33,
   "metadata": {},
   "outputs": [
    {
     "name": "stdout",
     "output_type": "stream",
     "text": [
      "['Abraham Lincoln', 'Barack Obama', 'Donald Trump', 'George W. Bush', 'Hillary Clinton']\n"
     ]
    }
   ],
   "source": [
    "targets = list(le.classes_)\n",
    "print(targets)"
   ]
  },
  {
   "cell_type": "code",
   "execution_count": 36,
   "metadata": {},
   "outputs": [],
   "source": [
    "# Apply the fitted encoder to the pandas column\n",
    "df['author_encoded'] = le.transform(df.said_by) "
   ]
  },
  {
   "cell_type": "code",
   "execution_count": 37,
   "metadata": {},
   "outputs": [
    {
     "data": {
      "text/html": [
       "<div>\n",
       "<style scoped>\n",
       "    .dataframe tbody tr th:only-of-type {\n",
       "        vertical-align: middle;\n",
       "    }\n",
       "\n",
       "    .dataframe tbody tr th {\n",
       "        vertical-align: top;\n",
       "    }\n",
       "\n",
       "    .dataframe thead th {\n",
       "        text-align: right;\n",
       "    }\n",
       "</style>\n",
       "<table border=\"1\" class=\"dataframe\">\n",
       "  <thead>\n",
       "    <tr style=\"text-align: right;\">\n",
       "      <th></th>\n",
       "      <th>party</th>\n",
       "      <th>quote</th>\n",
       "      <th>said_by</th>\n",
       "      <th>quote_tokenized</th>\n",
       "      <th>quote_no_stops</th>\n",
       "      <th>lemmatized_quote</th>\n",
       "      <th>lemmatized_quote_string</th>\n",
       "      <th>author_encoded</th>\n",
       "    </tr>\n",
       "  </thead>\n",
       "  <tbody>\n",
       "    <tr>\n",
       "      <th>0</th>\n",
       "      <td>D</td>\n",
       "      <td>change will not come if we wait for some other...</td>\n",
       "      <td>Barack Obama</td>\n",
       "      <td>[change, will, not, come, if, we, wait, for, s...</td>\n",
       "      <td>[change, come, wait, person, wait, time, ones,...</td>\n",
       "      <td>[change, come, wait, person, wait, time, one, ...</td>\n",
       "      <td>change come wait person wait time one 've wait...</td>\n",
       "      <td>1</td>\n",
       "    </tr>\n",
       "    <tr>\n",
       "      <th>1</th>\n",
       "      <td>D</td>\n",
       "      <td>the best way to not feel hopeless is to get up...</td>\n",
       "      <td>Barack Obama</td>\n",
       "      <td>[the, best, way, to, not, feel, hopeless, is, ...</td>\n",
       "      <td>[best, way, feel, hopeless, get, something, wa...</td>\n",
       "      <td>[best, way, feel, hopeless, get, something, wa...</td>\n",
       "      <td>best way feel hopeless get something wait good...</td>\n",
       "      <td>1</td>\n",
       "    </tr>\n",
       "    <tr>\n",
       "      <th>2</th>\n",
       "      <td>D</td>\n",
       "      <td>a change is brought about because ordinary peo...</td>\n",
       "      <td>Barack Obama</td>\n",
       "      <td>[a, change, is, brought, about, because, ordin...</td>\n",
       "      <td>[change, brought, ordinary, people, extraordin...</td>\n",
       "      <td>[change, brought, ordinary, people, extraordin...</td>\n",
       "      <td>change brought ordinary people extraordinary t...</td>\n",
       "      <td>1</td>\n",
       "    </tr>\n",
       "    <tr>\n",
       "      <th>3</th>\n",
       "      <td>D</td>\n",
       "      <td>yes we can!</td>\n",
       "      <td>Barack Obama</td>\n",
       "      <td>[yes, we, can, !]</td>\n",
       "      <td>[yes]</td>\n",
       "      <td>[yes]</td>\n",
       "      <td>yes</td>\n",
       "      <td>1</td>\n",
       "    </tr>\n",
       "    <tr>\n",
       "      <th>4</th>\n",
       "      <td>D</td>\n",
       "      <td>we are the change we have been waiting for.</td>\n",
       "      <td>Barack Obama</td>\n",
       "      <td>[we, are, the, change, we, have, been, waiting...</td>\n",
       "      <td>[change, waiting]</td>\n",
       "      <td>[change, waiting]</td>\n",
       "      <td>change waiting</td>\n",
       "      <td>1</td>\n",
       "    </tr>\n",
       "  </tbody>\n",
       "</table>\n",
       "</div>"
      ],
      "text/plain": [
       "  party                                              quote       said_by  \\\n",
       "0     D  change will not come if we wait for some other...  Barack Obama   \n",
       "1     D  the best way to not feel hopeless is to get up...  Barack Obama   \n",
       "2     D  a change is brought about because ordinary peo...  Barack Obama   \n",
       "3     D                                        yes we can!  Barack Obama   \n",
       "4     D        we are the change we have been waiting for.  Barack Obama   \n",
       "\n",
       "                                     quote_tokenized  \\\n",
       "0  [change, will, not, come, if, we, wait, for, s...   \n",
       "1  [the, best, way, to, not, feel, hopeless, is, ...   \n",
       "2  [a, change, is, brought, about, because, ordin...   \n",
       "3                                  [yes, we, can, !]   \n",
       "4  [we, are, the, change, we, have, been, waiting...   \n",
       "\n",
       "                                      quote_no_stops  \\\n",
       "0  [change, come, wait, person, wait, time, ones,...   \n",
       "1  [best, way, feel, hopeless, get, something, wa...   \n",
       "2  [change, brought, ordinary, people, extraordin...   \n",
       "3                                              [yes]   \n",
       "4                                  [change, waiting]   \n",
       "\n",
       "                                    lemmatized_quote  \\\n",
       "0  [change, come, wait, person, wait, time, one, ...   \n",
       "1  [best, way, feel, hopeless, get, something, wa...   \n",
       "2  [change, brought, ordinary, people, extraordin...   \n",
       "3                                              [yes]   \n",
       "4                                  [change, waiting]   \n",
       "\n",
       "                             lemmatized_quote_string  author_encoded  \n",
       "0  change come wait person wait time one 've wait...               1  \n",
       "1  best way feel hopeless get something wait good...               1  \n",
       "2  change brought ordinary people extraordinary t...               1  \n",
       "3                                                yes               1  \n",
       "4                                     change waiting               1  "
      ]
     },
     "execution_count": 37,
     "metadata": {},
     "output_type": "execute_result"
    }
   ],
   "source": [
    "df.head()"
   ]
  },
  {
   "cell_type": "markdown",
   "metadata": {},
   "source": [
    "<h2>Train-Test Split"
   ]
  },
  {
   "cell_type": "code",
   "execution_count": 38,
   "metadata": {},
   "outputs": [],
   "source": [
    "X = df.lemmatized_quote_string\n",
    "y = df.author_encoded\n",
    "\n",
    "X_train, X_test, y_train, y_test = train_test_split(X, y, test_size=0.3, random_state = 42)"
   ]
  },
  {
   "cell_type": "markdown",
   "metadata": {},
   "source": [
    "<h2>Naive Bayes Classifier"
   ]
  },
  {
   "cell_type": "code",
   "execution_count": 41,
   "metadata": {},
   "outputs": [
    {
     "data": {
      "text/plain": [
       "Pipeline(memory=None,\n",
       "     steps=[('vect', CountVectorizer(analyzer='word', binary=False, decode_error='strict',\n",
       "        dtype=<class 'numpy.int64'>, encoding='utf-8', input='content',\n",
       "        lowercase=True, max_df=1.0, max_features=None, min_df=1,\n",
       "        ngram_range=(1, 1), preprocessor=None, stop_words=None,\n",
       "        strip...inear_tf=False, use_idf=True)), ('clf', MultinomialNB(alpha=1.0, class_prior=None, fit_prior=True))])"
      ]
     },
     "execution_count": 41,
     "metadata": {},
     "output_type": "execute_result"
    }
   ],
   "source": [
    "nb = Pipeline([('vect', CountVectorizer()),\n",
    "               ('tfidf', TfidfTransformer()),\n",
    "               ('clf', MultinomialNB()),\n",
    "              ])\n",
    "nb.fit(X_train, y_train)"
   ]
  },
  {
   "cell_type": "code",
   "execution_count": null,
   "metadata": {},
   "outputs": [],
   "source": []
  }
 ],
 "metadata": {
  "kernelspec": {
   "display_name": "Python 3",
   "language": "python",
   "name": "python3"
  },
  "language_info": {
   "codemirror_mode": {
    "name": "ipython",
    "version": 3
   },
   "file_extension": ".py",
   "mimetype": "text/x-python",
   "name": "python",
   "nbconvert_exporter": "python",
   "pygments_lexer": "ipython3",
   "version": "3.7.2"
  }
 },
 "nbformat": 4,
 "nbformat_minor": 2
}
