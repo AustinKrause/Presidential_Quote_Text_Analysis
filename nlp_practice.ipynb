{
 "cells": [
  {
   "cell_type": "markdown",
   "metadata": {},
   "source": [
    "<h1>Text Cleaning and Classification Models"
   ]
  },
  {
   "cell_type": "code",
   "execution_count": 40,
   "metadata": {},
   "outputs": [],
   "source": [
    "import pandas as pd\n",
    "import datetime\n",
    "import numpy as np\n",
    "import re\n",
    "\n",
    "import nltk\n",
    "from nltk.tokenize import word_tokenize\n",
    "from nltk.corpus import stopwords\n",
    "from nltk.stem import WordNetLemmatizer\n",
    "from nltk.stem import PorterStemmer\n",
    "from nltk.stem import SnowballStemmer\n",
    "\n",
    "import string\n",
    "from string import punctuation\n",
    "\n",
    "from sklearn.model_selection import train_test_split\n",
    "from sklearn import preprocessing\n",
    "from sklearn.naive_bayes import MultinomialNB\n",
    "from sklearn.pipeline import Pipeline\n",
    "from sklearn.feature_extraction.text import TfidfTransformer\n",
    "from sklearn.feature_extraction.text import CountVectorizer, TfidfVectorizer\n",
    "from sklearn.metrics import accuracy_score, confusion_matrix\n",
    "from sklearn.metrics import classification_report"
   ]
  },
  {
   "cell_type": "markdown",
   "metadata": {},
   "source": [
    "This code prevents the kernel from stopping when XGBoost is running"
   ]
  },
  {
   "cell_type": "code",
   "execution_count": 28,
   "metadata": {},
   "outputs": [],
   "source": [
    "import os\n",
    "os.environ['KMP_DUPLICATE_LIB_OK']='True'"
   ]
  },
  {
   "cell_type": "markdown",
   "metadata": {},
   "source": [
    "<h2>Read in CSV"
   ]
  },
  {
   "cell_type": "code",
   "execution_count": 2,
   "metadata": {},
   "outputs": [],
   "source": [
    "df = pd.read_csv('presidential_quotes.csv')"
   ]
  },
  {
   "cell_type": "code",
   "execution_count": 3,
   "metadata": {},
   "outputs": [],
   "source": [
    "df = df.drop('Unnamed: 0', axis = 1)"
   ]
  },
  {
   "cell_type": "code",
   "execution_count": 4,
   "metadata": {},
   "outputs": [
    {
     "data": {
      "text/html": [
       "<div>\n",
       "<style scoped>\n",
       "    .dataframe tbody tr th:only-of-type {\n",
       "        vertical-align: middle;\n",
       "    }\n",
       "\n",
       "    .dataframe tbody tr th {\n",
       "        vertical-align: top;\n",
       "    }\n",
       "\n",
       "    .dataframe thead th {\n",
       "        text-align: right;\n",
       "    }\n",
       "</style>\n",
       "<table border=\"1\" class=\"dataframe\">\n",
       "  <thead>\n",
       "    <tr style=\"text-align: right;\">\n",
       "      <th></th>\n",
       "      <th>party</th>\n",
       "      <th>quote</th>\n",
       "      <th>said_by</th>\n",
       "    </tr>\n",
       "  </thead>\n",
       "  <tbody>\n",
       "    <tr>\n",
       "      <th>0</th>\n",
       "      <td>D</td>\n",
       "      <td>Change will not come if we wait for some other...</td>\n",
       "      <td>Barack Obama</td>\n",
       "    </tr>\n",
       "    <tr>\n",
       "      <th>1</th>\n",
       "      <td>D</td>\n",
       "      <td>The best way to not feel hopeless is to get up...</td>\n",
       "      <td>Barack Obama</td>\n",
       "    </tr>\n",
       "    <tr>\n",
       "      <th>2</th>\n",
       "      <td>D</td>\n",
       "      <td>A change is brought about because ordinary peo...</td>\n",
       "      <td>Barack Obama</td>\n",
       "    </tr>\n",
       "    <tr>\n",
       "      <th>3</th>\n",
       "      <td>D</td>\n",
       "      <td>Yes We Can!</td>\n",
       "      <td>Barack Obama</td>\n",
       "    </tr>\n",
       "    <tr>\n",
       "      <th>4</th>\n",
       "      <td>D</td>\n",
       "      <td>We are the change we have been waiting for.</td>\n",
       "      <td>Barack Obama</td>\n",
       "    </tr>\n",
       "  </tbody>\n",
       "</table>\n",
       "</div>"
      ],
      "text/plain": [
       "  party                                              quote       said_by\n",
       "0     D  Change will not come if we wait for some other...  Barack Obama\n",
       "1     D  The best way to not feel hopeless is to get up...  Barack Obama\n",
       "2     D  A change is brought about because ordinary peo...  Barack Obama\n",
       "3     D                                        Yes We Can!  Barack Obama\n",
       "4     D        We are the change we have been waiting for.  Barack Obama"
      ]
     },
     "execution_count": 4,
     "metadata": {},
     "output_type": "execute_result"
    }
   ],
   "source": [
    "df.head()"
   ]
  },
  {
   "cell_type": "code",
   "execution_count": 5,
   "metadata": {},
   "outputs": [
    {
     "data": {
      "text/plain": [
       "(2016, 3)"
      ]
     },
     "execution_count": 5,
     "metadata": {},
     "output_type": "execute_result"
    }
   ],
   "source": [
    "df.shape"
   ]
  },
  {
   "cell_type": "code",
   "execution_count": 6,
   "metadata": {},
   "outputs": [
    {
     "data": {
      "text/plain": [
       "Barack Obama       570\n",
       "Hillary Clinton    563\n",
       "Abraham Lincoln    440\n",
       "Donald Trump       227\n",
       "George W. Bush     216\n",
       "Name: said_by, dtype: int64"
      ]
     },
     "execution_count": 6,
     "metadata": {},
     "output_type": "execute_result"
    }
   ],
   "source": [
    "df.said_by.value_counts()"
   ]
  },
  {
   "cell_type": "code",
   "execution_count": 7,
   "metadata": {},
   "outputs": [
    {
     "data": {
      "text/plain": [
       "D    1133\n",
       "R     883\n",
       "Name: party, dtype: int64"
      ]
     },
     "execution_count": 7,
     "metadata": {},
     "output_type": "execute_result"
    }
   ],
   "source": [
    "df.party.value_counts()"
   ]
  },
  {
   "cell_type": "markdown",
   "metadata": {},
   "source": [
    "<h2>Tokenize"
   ]
  },
  {
   "cell_type": "code",
   "execution_count": 8,
   "metadata": {},
   "outputs": [],
   "source": [
    "df.quote = df.quote.str.lower()"
   ]
  },
  {
   "cell_type": "code",
   "execution_count": 9,
   "metadata": {},
   "outputs": [],
   "source": [
    "df['quote_tokenized'] = df.quote.apply(lambda x: word_tokenize(x, language = 'en'))"
   ]
  },
  {
   "cell_type": "code",
   "execution_count": 10,
   "metadata": {},
   "outputs": [
    {
     "data": {
      "text/html": [
       "<div>\n",
       "<style scoped>\n",
       "    .dataframe tbody tr th:only-of-type {\n",
       "        vertical-align: middle;\n",
       "    }\n",
       "\n",
       "    .dataframe tbody tr th {\n",
       "        vertical-align: top;\n",
       "    }\n",
       "\n",
       "    .dataframe thead th {\n",
       "        text-align: right;\n",
       "    }\n",
       "</style>\n",
       "<table border=\"1\" class=\"dataframe\">\n",
       "  <thead>\n",
       "    <tr style=\"text-align: right;\">\n",
       "      <th></th>\n",
       "      <th>party</th>\n",
       "      <th>quote</th>\n",
       "      <th>said_by</th>\n",
       "      <th>quote_tokenized</th>\n",
       "    </tr>\n",
       "  </thead>\n",
       "  <tbody>\n",
       "    <tr>\n",
       "      <th>0</th>\n",
       "      <td>D</td>\n",
       "      <td>change will not come if we wait for some other...</td>\n",
       "      <td>Barack Obama</td>\n",
       "      <td>[change, will, not, come, if, we, wait, for, s...</td>\n",
       "    </tr>\n",
       "    <tr>\n",
       "      <th>1</th>\n",
       "      <td>D</td>\n",
       "      <td>the best way to not feel hopeless is to get up...</td>\n",
       "      <td>Barack Obama</td>\n",
       "      <td>[the, best, way, to, not, feel, hopeless, is, ...</td>\n",
       "    </tr>\n",
       "    <tr>\n",
       "      <th>2</th>\n",
       "      <td>D</td>\n",
       "      <td>a change is brought about because ordinary peo...</td>\n",
       "      <td>Barack Obama</td>\n",
       "      <td>[a, change, is, brought, about, because, ordin...</td>\n",
       "    </tr>\n",
       "    <tr>\n",
       "      <th>3</th>\n",
       "      <td>D</td>\n",
       "      <td>yes we can!</td>\n",
       "      <td>Barack Obama</td>\n",
       "      <td>[yes, we, can, !]</td>\n",
       "    </tr>\n",
       "    <tr>\n",
       "      <th>4</th>\n",
       "      <td>D</td>\n",
       "      <td>we are the change we have been waiting for.</td>\n",
       "      <td>Barack Obama</td>\n",
       "      <td>[we, are, the, change, we, have, been, waiting...</td>\n",
       "    </tr>\n",
       "  </tbody>\n",
       "</table>\n",
       "</div>"
      ],
      "text/plain": [
       "  party                                              quote       said_by  \\\n",
       "0     D  change will not come if we wait for some other...  Barack Obama   \n",
       "1     D  the best way to not feel hopeless is to get up...  Barack Obama   \n",
       "2     D  a change is brought about because ordinary peo...  Barack Obama   \n",
       "3     D                                        yes we can!  Barack Obama   \n",
       "4     D        we are the change we have been waiting for.  Barack Obama   \n",
       "\n",
       "                                     quote_tokenized  \n",
       "0  [change, will, not, come, if, we, wait, for, s...  \n",
       "1  [the, best, way, to, not, feel, hopeless, is, ...  \n",
       "2  [a, change, is, brought, about, because, ordin...  \n",
       "3                                  [yes, we, can, !]  \n",
       "4  [we, are, the, change, we, have, been, waiting...  "
      ]
     },
     "execution_count": 10,
     "metadata": {},
     "output_type": "execute_result"
    }
   ],
   "source": [
    "df.head()"
   ]
  },
  {
   "cell_type": "markdown",
   "metadata": {},
   "source": [
    "<h2>Remove Stop Words"
   ]
  },
  {
   "cell_type": "code",
   "execution_count": 13,
   "metadata": {},
   "outputs": [],
   "source": [
    "stops = list(set(stopwords.words('english'))) + list(punctuation)"
   ]
  },
  {
   "cell_type": "code",
   "execution_count": 14,
   "metadata": {},
   "outputs": [],
   "source": [
    "#function to remove stop words\n",
    "def remove_stops(text):\n",
    "    text_no_stops = []\n",
    "    for i in text:\n",
    "        if i not in stops:\n",
    "            if len(i) == 1:\n",
    "                pass\n",
    "            else:\n",
    "                text_no_stops.append(i)\n",
    "        else:\n",
    "            pass\n",
    "    return text_no_stops"
   ]
  },
  {
   "cell_type": "code",
   "execution_count": 15,
   "metadata": {},
   "outputs": [],
   "source": [
    "df['quote_no_stops'] = df['quote_tokenized'].apply(lambda x: remove_stops(x))"
   ]
  },
  {
   "cell_type": "code",
   "execution_count": 16,
   "metadata": {},
   "outputs": [
    {
     "data": {
      "text/html": [
       "<div>\n",
       "<style scoped>\n",
       "    .dataframe tbody tr th:only-of-type {\n",
       "        vertical-align: middle;\n",
       "    }\n",
       "\n",
       "    .dataframe tbody tr th {\n",
       "        vertical-align: top;\n",
       "    }\n",
       "\n",
       "    .dataframe thead th {\n",
       "        text-align: right;\n",
       "    }\n",
       "</style>\n",
       "<table border=\"1\" class=\"dataframe\">\n",
       "  <thead>\n",
       "    <tr style=\"text-align: right;\">\n",
       "      <th></th>\n",
       "      <th>party</th>\n",
       "      <th>quote</th>\n",
       "      <th>said_by</th>\n",
       "      <th>quote_tokenized</th>\n",
       "      <th>quote_no_stops</th>\n",
       "    </tr>\n",
       "  </thead>\n",
       "  <tbody>\n",
       "    <tr>\n",
       "      <th>0</th>\n",
       "      <td>D</td>\n",
       "      <td>change will not come if we wait for some other...</td>\n",
       "      <td>Barack Obama</td>\n",
       "      <td>[change, will, not, come, if, we, wait, for, s...</td>\n",
       "      <td>[change, come, wait, person, wait, time, ones,...</td>\n",
       "    </tr>\n",
       "    <tr>\n",
       "      <th>1</th>\n",
       "      <td>D</td>\n",
       "      <td>the best way to not feel hopeless is to get up...</td>\n",
       "      <td>Barack Obama</td>\n",
       "      <td>[the, best, way, to, not, feel, hopeless, is, ...</td>\n",
       "      <td>[best, way, feel, hopeless, get, something, wa...</td>\n",
       "    </tr>\n",
       "    <tr>\n",
       "      <th>2</th>\n",
       "      <td>D</td>\n",
       "      <td>a change is brought about because ordinary peo...</td>\n",
       "      <td>Barack Obama</td>\n",
       "      <td>[a, change, is, brought, about, because, ordin...</td>\n",
       "      <td>[change, brought, ordinary, people, extraordin...</td>\n",
       "    </tr>\n",
       "    <tr>\n",
       "      <th>3</th>\n",
       "      <td>D</td>\n",
       "      <td>yes we can!</td>\n",
       "      <td>Barack Obama</td>\n",
       "      <td>[yes, we, can, !]</td>\n",
       "      <td>[yes]</td>\n",
       "    </tr>\n",
       "    <tr>\n",
       "      <th>4</th>\n",
       "      <td>D</td>\n",
       "      <td>we are the change we have been waiting for.</td>\n",
       "      <td>Barack Obama</td>\n",
       "      <td>[we, are, the, change, we, have, been, waiting...</td>\n",
       "      <td>[change, waiting]</td>\n",
       "    </tr>\n",
       "  </tbody>\n",
       "</table>\n",
       "</div>"
      ],
      "text/plain": [
       "  party                                              quote       said_by  \\\n",
       "0     D  change will not come if we wait for some other...  Barack Obama   \n",
       "1     D  the best way to not feel hopeless is to get up...  Barack Obama   \n",
       "2     D  a change is brought about because ordinary peo...  Barack Obama   \n",
       "3     D                                        yes we can!  Barack Obama   \n",
       "4     D        we are the change we have been waiting for.  Barack Obama   \n",
       "\n",
       "                                     quote_tokenized  \\\n",
       "0  [change, will, not, come, if, we, wait, for, s...   \n",
       "1  [the, best, way, to, not, feel, hopeless, is, ...   \n",
       "2  [a, change, is, brought, about, because, ordin...   \n",
       "3                                  [yes, we, can, !]   \n",
       "4  [we, are, the, change, we, have, been, waiting...   \n",
       "\n",
       "                                      quote_no_stops  \n",
       "0  [change, come, wait, person, wait, time, ones,...  \n",
       "1  [best, way, feel, hopeless, get, something, wa...  \n",
       "2  [change, brought, ordinary, people, extraordin...  \n",
       "3                                              [yes]  \n",
       "4                                  [change, waiting]  "
      ]
     },
     "execution_count": 16,
     "metadata": {},
     "output_type": "execute_result"
    }
   ],
   "source": [
    "df.head()"
   ]
  },
  {
   "cell_type": "markdown",
   "metadata": {},
   "source": [
    "<h2>Lemmatize"
   ]
  },
  {
   "cell_type": "code",
   "execution_count": 21,
   "metadata": {},
   "outputs": [],
   "source": [
    "#initialize WordNetLemmatizer\n",
    "lemmatizer = nltk.stem.WordNetLemmatizer()"
   ]
  },
  {
   "cell_type": "code",
   "execution_count": 22,
   "metadata": {},
   "outputs": [],
   "source": [
    "#function to lemmatize text\n",
    "def lemmatize_text(text):\n",
    "    lemmatized = []\n",
    "    for word in text:\n",
    "        lemmatized.append(lemmatizer.lemmatize(word))\n",
    "    return lemmatized"
   ]
  },
  {
   "cell_type": "code",
   "execution_count": 23,
   "metadata": {},
   "outputs": [],
   "source": [
    "df['lemmatized_quote'] = df['quote_no_stops'].apply(lemmatize_text)"
   ]
  },
  {
   "cell_type": "code",
   "execution_count": 25,
   "metadata": {},
   "outputs": [
    {
     "data": {
      "text/html": [
       "<div>\n",
       "<style scoped>\n",
       "    .dataframe tbody tr th:only-of-type {\n",
       "        vertical-align: middle;\n",
       "    }\n",
       "\n",
       "    .dataframe tbody tr th {\n",
       "        vertical-align: top;\n",
       "    }\n",
       "\n",
       "    .dataframe thead th {\n",
       "        text-align: right;\n",
       "    }\n",
       "</style>\n",
       "<table border=\"1\" class=\"dataframe\">\n",
       "  <thead>\n",
       "    <tr style=\"text-align: right;\">\n",
       "      <th></th>\n",
       "      <th>party</th>\n",
       "      <th>quote</th>\n",
       "      <th>said_by</th>\n",
       "      <th>quote_tokenized</th>\n",
       "      <th>quote_no_stops</th>\n",
       "      <th>lemmatized_quote</th>\n",
       "    </tr>\n",
       "  </thead>\n",
       "  <tbody>\n",
       "    <tr>\n",
       "      <th>0</th>\n",
       "      <td>D</td>\n",
       "      <td>change will not come if we wait for some other...</td>\n",
       "      <td>Barack Obama</td>\n",
       "      <td>[change, will, not, come, if, we, wait, for, s...</td>\n",
       "      <td>[change, come, wait, person, wait, time, ones,...</td>\n",
       "      <td>[change, come, wait, person, wait, time, one, ...</td>\n",
       "    </tr>\n",
       "    <tr>\n",
       "      <th>1</th>\n",
       "      <td>D</td>\n",
       "      <td>the best way to not feel hopeless is to get up...</td>\n",
       "      <td>Barack Obama</td>\n",
       "      <td>[the, best, way, to, not, feel, hopeless, is, ...</td>\n",
       "      <td>[best, way, feel, hopeless, get, something, wa...</td>\n",
       "      <td>[best, way, feel, hopeless, get, something, wa...</td>\n",
       "    </tr>\n",
       "    <tr>\n",
       "      <th>2</th>\n",
       "      <td>D</td>\n",
       "      <td>a change is brought about because ordinary peo...</td>\n",
       "      <td>Barack Obama</td>\n",
       "      <td>[a, change, is, brought, about, because, ordin...</td>\n",
       "      <td>[change, brought, ordinary, people, extraordin...</td>\n",
       "      <td>[change, brought, ordinary, people, extraordin...</td>\n",
       "    </tr>\n",
       "    <tr>\n",
       "      <th>3</th>\n",
       "      <td>D</td>\n",
       "      <td>yes we can!</td>\n",
       "      <td>Barack Obama</td>\n",
       "      <td>[yes, we, can, !]</td>\n",
       "      <td>[yes]</td>\n",
       "      <td>[yes]</td>\n",
       "    </tr>\n",
       "    <tr>\n",
       "      <th>4</th>\n",
       "      <td>D</td>\n",
       "      <td>we are the change we have been waiting for.</td>\n",
       "      <td>Barack Obama</td>\n",
       "      <td>[we, are, the, change, we, have, been, waiting...</td>\n",
       "      <td>[change, waiting]</td>\n",
       "      <td>[change, waiting]</td>\n",
       "    </tr>\n",
       "  </tbody>\n",
       "</table>\n",
       "</div>"
      ],
      "text/plain": [
       "  party                                              quote       said_by  \\\n",
       "0     D  change will not come if we wait for some other...  Barack Obama   \n",
       "1     D  the best way to not feel hopeless is to get up...  Barack Obama   \n",
       "2     D  a change is brought about because ordinary peo...  Barack Obama   \n",
       "3     D                                        yes we can!  Barack Obama   \n",
       "4     D        we are the change we have been waiting for.  Barack Obama   \n",
       "\n",
       "                                     quote_tokenized  \\\n",
       "0  [change, will, not, come, if, we, wait, for, s...   \n",
       "1  [the, best, way, to, not, feel, hopeless, is, ...   \n",
       "2  [a, change, is, brought, about, because, ordin...   \n",
       "3                                  [yes, we, can, !]   \n",
       "4  [we, are, the, change, we, have, been, waiting...   \n",
       "\n",
       "                                      quote_no_stops  \\\n",
       "0  [change, come, wait, person, wait, time, ones,...   \n",
       "1  [best, way, feel, hopeless, get, something, wa...   \n",
       "2  [change, brought, ordinary, people, extraordin...   \n",
       "3                                              [yes]   \n",
       "4                                  [change, waiting]   \n",
       "\n",
       "                                    lemmatized_quote  \n",
       "0  [change, come, wait, person, wait, time, one, ...  \n",
       "1  [best, way, feel, hopeless, get, something, wa...  \n",
       "2  [change, brought, ordinary, people, extraordin...  \n",
       "3                                              [yes]  \n",
       "4                                  [change, waiting]  "
      ]
     },
     "execution_count": 25,
     "metadata": {},
     "output_type": "execute_result"
    }
   ],
   "source": [
    "df.head()"
   ]
  },
  {
   "cell_type": "code",
   "execution_count": 26,
   "metadata": {},
   "outputs": [],
   "source": [
    "#create string of lemmatized quotes\n",
    "df['lemmatized_quote_string'] = df['lemmatized_quote'].apply(lambda x: ' '.join(x))"
   ]
  },
  {
   "cell_type": "code",
   "execution_count": 27,
   "metadata": {},
   "outputs": [
    {
     "data": {
      "text/html": [
       "<div>\n",
       "<style scoped>\n",
       "    .dataframe tbody tr th:only-of-type {\n",
       "        vertical-align: middle;\n",
       "    }\n",
       "\n",
       "    .dataframe tbody tr th {\n",
       "        vertical-align: top;\n",
       "    }\n",
       "\n",
       "    .dataframe thead th {\n",
       "        text-align: right;\n",
       "    }\n",
       "</style>\n",
       "<table border=\"1\" class=\"dataframe\">\n",
       "  <thead>\n",
       "    <tr style=\"text-align: right;\">\n",
       "      <th></th>\n",
       "      <th>party</th>\n",
       "      <th>quote</th>\n",
       "      <th>said_by</th>\n",
       "      <th>quote_tokenized</th>\n",
       "      <th>quote_no_stops</th>\n",
       "      <th>lemmatized_quote</th>\n",
       "      <th>lemmatized_quote_string</th>\n",
       "    </tr>\n",
       "  </thead>\n",
       "  <tbody>\n",
       "    <tr>\n",
       "      <th>0</th>\n",
       "      <td>D</td>\n",
       "      <td>change will not come if we wait for some other...</td>\n",
       "      <td>Barack Obama</td>\n",
       "      <td>[change, will, not, come, if, we, wait, for, s...</td>\n",
       "      <td>[change, come, wait, person, wait, time, ones,...</td>\n",
       "      <td>[change, come, wait, person, wait, time, one, ...</td>\n",
       "      <td>change come wait person wait time one 've wait...</td>\n",
       "    </tr>\n",
       "    <tr>\n",
       "      <th>1</th>\n",
       "      <td>D</td>\n",
       "      <td>the best way to not feel hopeless is to get up...</td>\n",
       "      <td>Barack Obama</td>\n",
       "      <td>[the, best, way, to, not, feel, hopeless, is, ...</td>\n",
       "      <td>[best, way, feel, hopeless, get, something, wa...</td>\n",
       "      <td>[best, way, feel, hopeless, get, something, wa...</td>\n",
       "      <td>best way feel hopeless get something wait good...</td>\n",
       "    </tr>\n",
       "    <tr>\n",
       "      <th>2</th>\n",
       "      <td>D</td>\n",
       "      <td>a change is brought about because ordinary peo...</td>\n",
       "      <td>Barack Obama</td>\n",
       "      <td>[a, change, is, brought, about, because, ordin...</td>\n",
       "      <td>[change, brought, ordinary, people, extraordin...</td>\n",
       "      <td>[change, brought, ordinary, people, extraordin...</td>\n",
       "      <td>change brought ordinary people extraordinary t...</td>\n",
       "    </tr>\n",
       "    <tr>\n",
       "      <th>3</th>\n",
       "      <td>D</td>\n",
       "      <td>yes we can!</td>\n",
       "      <td>Barack Obama</td>\n",
       "      <td>[yes, we, can, !]</td>\n",
       "      <td>[yes]</td>\n",
       "      <td>[yes]</td>\n",
       "      <td>yes</td>\n",
       "    </tr>\n",
       "    <tr>\n",
       "      <th>4</th>\n",
       "      <td>D</td>\n",
       "      <td>we are the change we have been waiting for.</td>\n",
       "      <td>Barack Obama</td>\n",
       "      <td>[we, are, the, change, we, have, been, waiting...</td>\n",
       "      <td>[change, waiting]</td>\n",
       "      <td>[change, waiting]</td>\n",
       "      <td>change waiting</td>\n",
       "    </tr>\n",
       "  </tbody>\n",
       "</table>\n",
       "</div>"
      ],
      "text/plain": [
       "  party                                              quote       said_by  \\\n",
       "0     D  change will not come if we wait for some other...  Barack Obama   \n",
       "1     D  the best way to not feel hopeless is to get up...  Barack Obama   \n",
       "2     D  a change is brought about because ordinary peo...  Barack Obama   \n",
       "3     D                                        yes we can!  Barack Obama   \n",
       "4     D        we are the change we have been waiting for.  Barack Obama   \n",
       "\n",
       "                                     quote_tokenized  \\\n",
       "0  [change, will, not, come, if, we, wait, for, s...   \n",
       "1  [the, best, way, to, not, feel, hopeless, is, ...   \n",
       "2  [a, change, is, brought, about, because, ordin...   \n",
       "3                                  [yes, we, can, !]   \n",
       "4  [we, are, the, change, we, have, been, waiting...   \n",
       "\n",
       "                                      quote_no_stops  \\\n",
       "0  [change, come, wait, person, wait, time, ones,...   \n",
       "1  [best, way, feel, hopeless, get, something, wa...   \n",
       "2  [change, brought, ordinary, people, extraordin...   \n",
       "3                                              [yes]   \n",
       "4                                  [change, waiting]   \n",
       "\n",
       "                                    lemmatized_quote  \\\n",
       "0  [change, come, wait, person, wait, time, one, ...   \n",
       "1  [best, way, feel, hopeless, get, something, wa...   \n",
       "2  [change, brought, ordinary, people, extraordin...   \n",
       "3                                              [yes]   \n",
       "4                                  [change, waiting]   \n",
       "\n",
       "                             lemmatized_quote_string  \n",
       "0  change come wait person wait time one 've wait...  \n",
       "1  best way feel hopeless get something wait good...  \n",
       "2  change brought ordinary people extraordinary t...  \n",
       "3                                                yes  \n",
       "4                                     change waiting  "
      ]
     },
     "execution_count": 27,
     "metadata": {},
     "output_type": "execute_result"
    }
   ],
   "source": [
    "df.head()"
   ]
  },
  {
   "cell_type": "markdown",
   "metadata": {},
   "source": [
    "<h2>Lable Encoding - Author"
   ]
  },
  {
   "cell_type": "code",
   "execution_count": 57,
   "metadata": {},
   "outputs": [],
   "source": [
    "# Create a label encoder object\n",
    "le = preprocessing.LabelEncoder()"
   ]
  },
  {
   "cell_type": "code",
   "execution_count": 58,
   "metadata": {},
   "outputs": [
    {
     "name": "stdout",
     "output_type": "stream",
     "text": [
      "<class 'pandas.core.frame.DataFrame'>\n",
      "RangeIndex: 2016 entries, 0 to 2015\n",
      "Data columns (total 8 columns):\n",
      "party                      2016 non-null object\n",
      "quote                      2016 non-null object\n",
      "said_by                    2016 non-null object\n",
      "quote_tokenized            2016 non-null object\n",
      "quote_no_stops             2016 non-null object\n",
      "lemmatized_quote           2016 non-null object\n",
      "lemmatized_quote_string    2016 non-null object\n",
      "author_encoded             2016 non-null int64\n",
      "dtypes: int64(1), object(7)\n",
      "memory usage: 126.1+ KB\n"
     ]
    }
   ],
   "source": [
    "df.info()"
   ]
  },
  {
   "cell_type": "code",
   "execution_count": 59,
   "metadata": {},
   "outputs": [
    {
     "data": {
      "text/plain": [
       "LabelEncoder()"
      ]
     },
     "execution_count": 59,
     "metadata": {},
     "output_type": "execute_result"
    }
   ],
   "source": [
    "# Fit the encoder to the pandas column\n",
    "le.fit(df.said_by)"
   ]
  },
  {
   "cell_type": "code",
   "execution_count": 60,
   "metadata": {},
   "outputs": [
    {
     "name": "stdout",
     "output_type": "stream",
     "text": [
      "['Abraham Lincoln', 'Barack Obama', 'Donald Trump', 'George W. Bush', 'Hillary Clinton']\n"
     ]
    }
   ],
   "source": [
    "targets = list(le.classes_)\n",
    "print(targets)"
   ]
  },
  {
   "cell_type": "code",
   "execution_count": 61,
   "metadata": {},
   "outputs": [],
   "source": [
    "# Apply the fitted encoder to the pandas column\n",
    "df['author_encoded'] = le.transform(df.said_by) "
   ]
  },
  {
   "cell_type": "code",
   "execution_count": 65,
   "metadata": {},
   "outputs": [],
   "source": [
    "#df.head()"
   ]
  },
  {
   "cell_type": "markdown",
   "metadata": {},
   "source": [
    "<h2>Lable Encoding - Party"
   ]
  },
  {
   "cell_type": "code",
   "execution_count": 52,
   "metadata": {},
   "outputs": [],
   "source": [
    "le_2 = preprocessing.LabelEncoder()"
   ]
  },
  {
   "cell_type": "code",
   "execution_count": 55,
   "metadata": {},
   "outputs": [
    {
     "data": {
      "text/plain": [
       "LabelEncoder()"
      ]
     },
     "execution_count": 55,
     "metadata": {},
     "output_type": "execute_result"
    }
   ],
   "source": [
    "# Fit the encoder to the pandas column\n",
    "le_2.fit(df.party)"
   ]
  },
  {
   "cell_type": "code",
   "execution_count": 56,
   "metadata": {},
   "outputs": [
    {
     "name": "stdout",
     "output_type": "stream",
     "text": [
      "['D', 'R']\n"
     ]
    }
   ],
   "source": [
    "targets_2 = list(le_2.classes_)\n",
    "print(targets_2)"
   ]
  },
  {
   "cell_type": "code",
   "execution_count": 63,
   "metadata": {},
   "outputs": [],
   "source": [
    "# Apply the fitted encoder to the pandas column\n",
    "df['party_encoded'] = le_2.transform(df.party) "
   ]
  },
  {
   "cell_type": "code",
   "execution_count": 64,
   "metadata": {},
   "outputs": [
    {
     "data": {
      "text/html": [
       "<div>\n",
       "<style scoped>\n",
       "    .dataframe tbody tr th:only-of-type {\n",
       "        vertical-align: middle;\n",
       "    }\n",
       "\n",
       "    .dataframe tbody tr th {\n",
       "        vertical-align: top;\n",
       "    }\n",
       "\n",
       "    .dataframe thead th {\n",
       "        text-align: right;\n",
       "    }\n",
       "</style>\n",
       "<table border=\"1\" class=\"dataframe\">\n",
       "  <thead>\n",
       "    <tr style=\"text-align: right;\">\n",
       "      <th></th>\n",
       "      <th>party</th>\n",
       "      <th>quote</th>\n",
       "      <th>said_by</th>\n",
       "      <th>quote_tokenized</th>\n",
       "      <th>quote_no_stops</th>\n",
       "      <th>lemmatized_quote</th>\n",
       "      <th>lemmatized_quote_string</th>\n",
       "      <th>author_encoded</th>\n",
       "      <th>party_encoded</th>\n",
       "    </tr>\n",
       "  </thead>\n",
       "  <tbody>\n",
       "    <tr>\n",
       "      <th>0</th>\n",
       "      <td>D</td>\n",
       "      <td>change will not come if we wait for some other...</td>\n",
       "      <td>Barack Obama</td>\n",
       "      <td>[change, will, not, come, if, we, wait, for, s...</td>\n",
       "      <td>[change, come, wait, person, wait, time, ones,...</td>\n",
       "      <td>[change, come, wait, person, wait, time, one, ...</td>\n",
       "      <td>change come wait person wait time one 've wait...</td>\n",
       "      <td>1</td>\n",
       "      <td>0</td>\n",
       "    </tr>\n",
       "    <tr>\n",
       "      <th>1</th>\n",
       "      <td>D</td>\n",
       "      <td>the best way to not feel hopeless is to get up...</td>\n",
       "      <td>Barack Obama</td>\n",
       "      <td>[the, best, way, to, not, feel, hopeless, is, ...</td>\n",
       "      <td>[best, way, feel, hopeless, get, something, wa...</td>\n",
       "      <td>[best, way, feel, hopeless, get, something, wa...</td>\n",
       "      <td>best way feel hopeless get something wait good...</td>\n",
       "      <td>1</td>\n",
       "      <td>0</td>\n",
       "    </tr>\n",
       "    <tr>\n",
       "      <th>2</th>\n",
       "      <td>D</td>\n",
       "      <td>a change is brought about because ordinary peo...</td>\n",
       "      <td>Barack Obama</td>\n",
       "      <td>[a, change, is, brought, about, because, ordin...</td>\n",
       "      <td>[change, brought, ordinary, people, extraordin...</td>\n",
       "      <td>[change, brought, ordinary, people, extraordin...</td>\n",
       "      <td>change brought ordinary people extraordinary t...</td>\n",
       "      <td>1</td>\n",
       "      <td>0</td>\n",
       "    </tr>\n",
       "    <tr>\n",
       "      <th>3</th>\n",
       "      <td>D</td>\n",
       "      <td>yes we can!</td>\n",
       "      <td>Barack Obama</td>\n",
       "      <td>[yes, we, can, !]</td>\n",
       "      <td>[yes]</td>\n",
       "      <td>[yes]</td>\n",
       "      <td>yes</td>\n",
       "      <td>1</td>\n",
       "      <td>0</td>\n",
       "    </tr>\n",
       "    <tr>\n",
       "      <th>4</th>\n",
       "      <td>D</td>\n",
       "      <td>we are the change we have been waiting for.</td>\n",
       "      <td>Barack Obama</td>\n",
       "      <td>[we, are, the, change, we, have, been, waiting...</td>\n",
       "      <td>[change, waiting]</td>\n",
       "      <td>[change, waiting]</td>\n",
       "      <td>change waiting</td>\n",
       "      <td>1</td>\n",
       "      <td>0</td>\n",
       "    </tr>\n",
       "  </tbody>\n",
       "</table>\n",
       "</div>"
      ],
      "text/plain": [
       "  party                                              quote       said_by  \\\n",
       "0     D  change will not come if we wait for some other...  Barack Obama   \n",
       "1     D  the best way to not feel hopeless is to get up...  Barack Obama   \n",
       "2     D  a change is brought about because ordinary peo...  Barack Obama   \n",
       "3     D                                        yes we can!  Barack Obama   \n",
       "4     D        we are the change we have been waiting for.  Barack Obama   \n",
       "\n",
       "                                     quote_tokenized  \\\n",
       "0  [change, will, not, come, if, we, wait, for, s...   \n",
       "1  [the, best, way, to, not, feel, hopeless, is, ...   \n",
       "2  [a, change, is, brought, about, because, ordin...   \n",
       "3                                  [yes, we, can, !]   \n",
       "4  [we, are, the, change, we, have, been, waiting...   \n",
       "\n",
       "                                      quote_no_stops  \\\n",
       "0  [change, come, wait, person, wait, time, ones,...   \n",
       "1  [best, way, feel, hopeless, get, something, wa...   \n",
       "2  [change, brought, ordinary, people, extraordin...   \n",
       "3                                              [yes]   \n",
       "4                                  [change, waiting]   \n",
       "\n",
       "                                    lemmatized_quote  \\\n",
       "0  [change, come, wait, person, wait, time, one, ...   \n",
       "1  [best, way, feel, hopeless, get, something, wa...   \n",
       "2  [change, brought, ordinary, people, extraordin...   \n",
       "3                                              [yes]   \n",
       "4                                  [change, waiting]   \n",
       "\n",
       "                             lemmatized_quote_string  author_encoded  \\\n",
       "0  change come wait person wait time one 've wait...               1   \n",
       "1  best way feel hopeless get something wait good...               1   \n",
       "2  change brought ordinary people extraordinary t...               1   \n",
       "3                                                yes               1   \n",
       "4                                     change waiting               1   \n",
       "\n",
       "   party_encoded  \n",
       "0              0  \n",
       "1              0  \n",
       "2              0  \n",
       "3              0  \n",
       "4              0  "
      ]
     },
     "execution_count": 64,
     "metadata": {},
     "output_type": "execute_result"
    }
   ],
   "source": [
    "df.head()"
   ]
  },
  {
   "cell_type": "markdown",
   "metadata": {},
   "source": [
    "<h2>Train Test Split - Author"
   ]
  },
  {
   "cell_type": "code",
   "execution_count": 68,
   "metadata": {},
   "outputs": [],
   "source": [
    "X = df.lemmatized_quote_string\n",
    "y = df.author_encoded\n",
    "\n",
    "X_train, X_test, y_train, y_test = train_test_split(X, y, test_size=0.3, random_state = 42)"
   ]
  },
  {
   "cell_type": "markdown",
   "metadata": {},
   "source": [
    "<h2> Train Test Split - Party"
   ]
  },
  {
   "cell_type": "code",
   "execution_count": 69,
   "metadata": {},
   "outputs": [],
   "source": [
    "X_party = df.lemmatized_quote_string\n",
    "y_party = df.party_encoded\n",
    "\n",
    "X_train_party, X_test_party, y_train_party, y_test_party = train_test_split(X_party, y_party, test_size=0.3, random_state = 42)"
   ]
  },
  {
   "cell_type": "markdown",
   "metadata": {},
   "source": [
    "<h1>Author Classification"
   ]
  },
  {
   "cell_type": "markdown",
   "metadata": {},
   "source": [
    "<h2>Naive Bayes Classifier"
   ]
  },
  {
   "cell_type": "code",
   "execution_count": 41,
   "metadata": {},
   "outputs": [
    {
     "data": {
      "text/plain": [
       "Pipeline(memory=None,\n",
       "     steps=[('vect', CountVectorizer(analyzer='word', binary=False, decode_error='strict',\n",
       "        dtype=<class 'numpy.int64'>, encoding='utf-8', input='content',\n",
       "        lowercase=True, max_df=1.0, max_features=None, min_df=1,\n",
       "        ngram_range=(1, 1), preprocessor=None, stop_words=None,\n",
       "        strip...inear_tf=False, use_idf=True)), ('clf', MultinomialNB(alpha=1.0, class_prior=None, fit_prior=True))])"
      ]
     },
     "execution_count": 41,
     "metadata": {},
     "output_type": "execute_result"
    }
   ],
   "source": [
    "nb = Pipeline([('vect', CountVectorizer()),\n",
    "               ('tfidf', TfidfTransformer()),\n",
    "               ('clf', MultinomialNB()),\n",
    "              ])\n",
    "nb.fit(X_train, y_train)"
   ]
  },
  {
   "cell_type": "code",
   "execution_count": 47,
   "metadata": {},
   "outputs": [
    {
     "name": "stdout",
     "output_type": "stream",
     "text": [
      "accuracy 0.6760330578512397\n",
      "CPU times: user 26.7 ms, sys: 1.9 ms, total: 28.6 ms\n",
      "Wall time: 27.9 ms\n"
     ]
    }
   ],
   "source": [
    "%%time\n",
    "\n",
    "y_pred_nb = nb.predict(X_test)\n",
    "\n",
    "print('accuracy %s' % accuracy_score(y_pred_nb, y_test))\n",
    "#print(classification_report(y_test, y_pred,target_names = targets))"
   ]
  },
  {
   "cell_type": "markdown",
   "metadata": {},
   "source": [
    "<h2>Logistic Regression Classifier"
   ]
  },
  {
   "cell_type": "code",
   "execution_count": 44,
   "metadata": {},
   "outputs": [
    {
     "name": "stderr",
     "output_type": "stream",
     "text": [
      "/Users/austinkrause/anaconda3/lib/python3.7/site-packages/sklearn/linear_model/logistic.py:433: FutureWarning: Default solver will be changed to 'lbfgs' in 0.22. Specify a solver to silence this warning.\n",
      "  FutureWarning)\n",
      "/Users/austinkrause/anaconda3/lib/python3.7/site-packages/sklearn/linear_model/logistic.py:460: FutureWarning: Default multi_class will be changed to 'auto' in 0.22. Specify the multi_class option to silence this warning.\n",
      "  \"this warning.\", FutureWarning)\n"
     ]
    },
    {
     "data": {
      "text/plain": [
       "Pipeline(memory=None,\n",
       "     steps=[('vect', CountVectorizer(analyzer='word', binary=False, decode_error='strict',\n",
       "        dtype=<class 'numpy.int64'>, encoding='utf-8', input='content',\n",
       "        lowercase=True, max_df=1.0, max_features=None, min_df=1,\n",
       "        ngram_range=(1, 1), preprocessor=None, stop_words=None,\n",
       "        strip...penalty='l2', random_state=None,\n",
       "          solver='warn', tol=0.0001, verbose=0, warm_start=False))])"
      ]
     },
     "execution_count": 44,
     "metadata": {},
     "output_type": "execute_result"
    }
   ],
   "source": [
    "from sklearn.linear_model import LogisticRegression\n",
    "\n",
    "logreg = Pipeline([('vect', CountVectorizer()),\n",
    "                ('tfidf', TfidfTransformer()),\n",
    "                ('clf', LogisticRegression(n_jobs=1, C=1e5)),\n",
    "               ])\n",
    "logreg.fit(X_train, y_train)"
   ]
  },
  {
   "cell_type": "code",
   "execution_count": 48,
   "metadata": {},
   "outputs": [
    {
     "name": "stdout",
     "output_type": "stream",
     "text": [
      "accuracy 0.7735537190082644\n",
      "CPU times: user 21.7 ms, sys: 2.27 ms, total: 24 ms\n",
      "Wall time: 24.5 ms\n"
     ]
    }
   ],
   "source": [
    "%%time\n",
    "\n",
    "y_pred_lr = logreg.predict(X_test)\n",
    "\n",
    "print('accuracy %s' % accuracy_score(y_pred_lr, y_test))\n",
    "#print(classification_report(y_test, y_pred,target_names=targets))"
   ]
  },
  {
   "cell_type": "markdown",
   "metadata": {},
   "source": [
    "<h2>XGBoost"
   ]
  },
  {
   "cell_type": "code",
   "execution_count": 49,
   "metadata": {},
   "outputs": [],
   "source": [
    "from xgboost import XGBClassifier"
   ]
  },
  {
   "cell_type": "code",
   "execution_count": 50,
   "metadata": {},
   "outputs": [
    {
     "data": {
      "text/plain": [
       "Pipeline(memory=None,\n",
       "     steps=[('vect', CountVectorizer(analyzer='word', binary=False, decode_error='strict',\n",
       "        dtype=<class 'numpy.int64'>, encoding='utf-8', input='content',\n",
       "        lowercase=True, max_df=1.0, max_features=None, min_df=1,\n",
       "        ngram_range=(1, 1), preprocessor=None, stop_words=None,\n",
       "        strip...\n",
       "       reg_alpha=0, reg_lambda=1, scale_pos_weight=1, seed=None,\n",
       "       silent=True, subsample=1))])"
      ]
     },
     "execution_count": 50,
     "metadata": {},
     "output_type": "execute_result"
    }
   ],
   "source": [
    "xgb = Pipeline([('vect', CountVectorizer()),\n",
    "               ('tfidf', TfidfTransformer()),\n",
    "               ('clf', XGBClassifier()),\n",
    "              ])\n",
    "xgb.fit(X_train, y_train)"
   ]
  },
  {
   "cell_type": "code",
   "execution_count": 51,
   "metadata": {},
   "outputs": [
    {
     "name": "stdout",
     "output_type": "stream",
     "text": [
      "accuracy 0.7024793388429752\n",
      "CPU times: user 37.7 ms, sys: 3.12 ms, total: 40.8 ms\n",
      "Wall time: 47.1 ms\n"
     ]
    }
   ],
   "source": [
    "%%time\n",
    "\n",
    "y_pred_xgb = xgb.predict(X_test)\n",
    "\n",
    "print('accuracy %s' % accuracy_score(y_pred_xgb, y_test))\n",
    "#print(classification_report(y_test, y_pred,target_names=targets))"
   ]
  },
  {
   "cell_type": "markdown",
   "metadata": {},
   "source": [
    "<h1>Party Classifier"
   ]
  },
  {
   "cell_type": "markdown",
   "metadata": {},
   "source": [
    "<h2>Naive Bayes Classifier"
   ]
  },
  {
   "cell_type": "code",
   "execution_count": 70,
   "metadata": {},
   "outputs": [
    {
     "data": {
      "text/plain": [
       "Pipeline(memory=None,\n",
       "     steps=[('vect', CountVectorizer(analyzer='word', binary=False, decode_error='strict',\n",
       "        dtype=<class 'numpy.int64'>, encoding='utf-8', input='content',\n",
       "        lowercase=True, max_df=1.0, max_features=None, min_df=1,\n",
       "        ngram_range=(1, 1), preprocessor=None, stop_words=None,\n",
       "        strip...inear_tf=False, use_idf=True)), ('clf', MultinomialNB(alpha=1.0, class_prior=None, fit_prior=True))])"
      ]
     },
     "execution_count": 70,
     "metadata": {},
     "output_type": "execute_result"
    }
   ],
   "source": [
    "nb_party = Pipeline([('vect', CountVectorizer()),\n",
    "               ('tfidf', TfidfTransformer()),\n",
    "               ('clf', MultinomialNB()),\n",
    "              ])\n",
    "nb_party.fit(X_train_party, y_train_party)"
   ]
  },
  {
   "cell_type": "code",
   "execution_count": 71,
   "metadata": {},
   "outputs": [
    {
     "name": "stdout",
     "output_type": "stream",
     "text": [
      "accuracy 0.7900826446280992\n",
      "CPU times: user 20.8 ms, sys: 2.01 ms, total: 22.8 ms\n",
      "Wall time: 22 ms\n"
     ]
    }
   ],
   "source": [
    "%%time\n",
    "\n",
    "y_pred_nb_party = nb_party.predict(X_test)\n",
    "\n",
    "print('accuracy %s' % accuracy_score(y_pred_nb_party, y_test_party))\n",
    "#print(classification_report(y_test, y_pred,target_names = targets))"
   ]
  },
  {
   "cell_type": "markdown",
   "metadata": {},
   "source": [
    "<h2>Logistic Regression Classifier"
   ]
  },
  {
   "cell_type": "code",
   "execution_count": 72,
   "metadata": {},
   "outputs": [
    {
     "name": "stderr",
     "output_type": "stream",
     "text": [
      "/Users/austinkrause/anaconda3/lib/python3.7/site-packages/sklearn/linear_model/logistic.py:433: FutureWarning: Default solver will be changed to 'lbfgs' in 0.22. Specify a solver to silence this warning.\n",
      "  FutureWarning)\n"
     ]
    },
    {
     "data": {
      "text/plain": [
       "Pipeline(memory=None,\n",
       "     steps=[('vect', CountVectorizer(analyzer='word', binary=False, decode_error='strict',\n",
       "        dtype=<class 'numpy.int64'>, encoding='utf-8', input='content',\n",
       "        lowercase=True, max_df=1.0, max_features=None, min_df=1,\n",
       "        ngram_range=(1, 1), preprocessor=None, stop_words=None,\n",
       "        strip...penalty='l2', random_state=None,\n",
       "          solver='warn', tol=0.0001, verbose=0, warm_start=False))])"
      ]
     },
     "execution_count": 72,
     "metadata": {},
     "output_type": "execute_result"
    }
   ],
   "source": [
    "logreg_party = Pipeline([('vect', CountVectorizer()),\n",
    "                ('tfidf', TfidfTransformer()),\n",
    "                ('clf', LogisticRegression(n_jobs=1, C=1e5)),\n",
    "               ])\n",
    "logreg_party.fit(X_train_party, y_train_party)"
   ]
  },
  {
   "cell_type": "code",
   "execution_count": 73,
   "metadata": {},
   "outputs": [
    {
     "name": "stdout",
     "output_type": "stream",
     "text": [
      "accuracy 0.8644628099173554\n"
     ]
    }
   ],
   "source": [
    "y_pred_lr_party = logreg_party.predict(X_test_party)\n",
    "\n",
    "print('accuracy %s' % accuracy_score(y_pred_lr_party, y_test_party))\n",
    "#print(classification_report(y_test, y_pred,target_names=targets))"
   ]
  },
  {
   "cell_type": "code",
   "execution_count": 74,
   "metadata": {},
   "outputs": [
    {
     "data": {
      "text/plain": [
       "Pipeline(memory=None,\n",
       "     steps=[('vect', CountVectorizer(analyzer='word', binary=False, decode_error='strict',\n",
       "        dtype=<class 'numpy.int64'>, encoding='utf-8', input='content',\n",
       "        lowercase=True, max_df=1.0, max_features=None, min_df=1,\n",
       "        ngram_range=(1, 1), preprocessor=None, stop_words=None,\n",
       "        strip...\n",
       "       reg_alpha=0, reg_lambda=1, scale_pos_weight=1, seed=None,\n",
       "       silent=True, subsample=1))])"
      ]
     },
     "execution_count": 74,
     "metadata": {},
     "output_type": "execute_result"
    }
   ],
   "source": [
    "xgb_party = Pipeline([('vect', CountVectorizer()),\n",
    "               ('tfidf', TfidfTransformer()),\n",
    "               ('clf', XGBClassifier()),\n",
    "              ])\n",
    "xgb_party.fit(X_train_party, y_train_party)"
   ]
  },
  {
   "cell_type": "code",
   "execution_count": 75,
   "metadata": {},
   "outputs": [
    {
     "name": "stdout",
     "output_type": "stream",
     "text": [
      "accuracy 0.7966942148760331\n"
     ]
    }
   ],
   "source": [
    "y_pred_xgb_party = xgb_party.predict(X_test_party)\n",
    "\n",
    "print('accuracy %s' % accuracy_score(y_pred_xgb_party, y_test_party))\n",
    "#print(classification_report(y_test, y_pred,target_names=targets))"
   ]
  },
  {
   "cell_type": "code",
   "execution_count": null,
   "metadata": {},
   "outputs": [],
   "source": []
  }
 ],
 "metadata": {
  "kernelspec": {
   "display_name": "Python 3",
   "language": "python",
   "name": "python3"
  },
  "language_info": {
   "codemirror_mode": {
    "name": "ipython",
    "version": 3
   },
   "file_extension": ".py",
   "mimetype": "text/x-python",
   "name": "python",
   "nbconvert_exporter": "python",
   "pygments_lexer": "ipython3",
   "version": "3.7.2"
  }
 },
 "nbformat": 4,
 "nbformat_minor": 2
}
